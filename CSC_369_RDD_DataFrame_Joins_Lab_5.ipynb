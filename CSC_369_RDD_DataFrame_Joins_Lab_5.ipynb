{
  "nbformat": 4,
  "nbformat_minor": 0,
  "metadata": {
    "colab": {
      "provenance": []
    },
    "kernelspec": {
      "name": "python3",
      "display_name": "Python 3"
    },
    "language_info": {
      "name": "python"
    }
  },
  "cells": [
    {
      "cell_type": "markdown",
      "metadata": {
        "id": "4yQ9QCIhsShu"
      },
      "source": [
        "# RDD / DataFrame Joins - Lab 5\n",
        "\n",
        "Reference/API Links\n",
        "\n",
        "\n",
        "*   [Apache Spark Quick Start](https://spark.apache.org/docs/3.3.0/quick-start.html)\n",
        "*   [PySpark v3.3.0 API](https://spark.apache.org/docs/3.3.0/api/python/reference/index.html)\n",
        "*    [RDD Programming Guide](https://spark.apache.org/docs/3.3.0/rdd-programming-guide.html)\n",
        "*    [Spark SQL Programming Guide](https://spark.apache.org/docs/3.3.0/sql-programming-guide.html)\n",
        "\n",
        "\n",
        "\n",
        "\n",
        "\n",
        "\n",
        "\n"
      ]
    },
    {
      "cell_type": "code",
      "metadata": {
        "id": "NoolY63aauhH",
        "colab": {
          "base_uri": "https://localhost:8080/"
        },
        "outputId": "a4d2b4b0-eac8-4f26-9b2c-fa67440c873c"
      },
      "source": [
        "!pip install pyspark\n",
        "!pip install -U -q PyDrive\n",
        "!apt install openjdk-8-jdk-headless -qq\n",
        "import os\n",
        "os.environ[\"JAVA_HOME\"] = \"/usr/lib/jvm/java-8-openjdk-amd64\""
      ],
      "execution_count": null,
      "outputs": [
        {
          "output_type": "stream",
          "name": "stdout",
          "text": [
            "Looking in indexes: https://pypi.org/simple, https://us-python.pkg.dev/colab-wheels/public/simple/\n",
            "Collecting pyspark\n",
            "  Downloading pyspark-3.3.2.tar.gz (281.4 MB)\n",
            "\u001b[2K     \u001b[90m━━━━━━━━━━━━━━━━━━━━━━━━━━━━━━━━━━━━━━━\u001b[0m \u001b[32m281.4/281.4 MB\u001b[0m \u001b[31m3.9 MB/s\u001b[0m eta \u001b[36m0:00:00\u001b[0m\n",
            "\u001b[?25h  Preparing metadata (setup.py) ... \u001b[?25l\u001b[?25hdone\n",
            "Collecting py4j==0.10.9.5\n",
            "  Downloading py4j-0.10.9.5-py2.py3-none-any.whl (199 kB)\n",
            "\u001b[2K     \u001b[90m━━━━━━━━━━━━━━━━━━━━━━━━━━━━━━━━━━━━━━\u001b[0m \u001b[32m199.7/199.7 KB\u001b[0m \u001b[31m12.5 MB/s\u001b[0m eta \u001b[36m0:00:00\u001b[0m\n",
            "\u001b[?25hBuilding wheels for collected packages: pyspark\n",
            "  Building wheel for pyspark (setup.py) ... \u001b[?25l\u001b[?25hdone\n",
            "  Created wheel for pyspark: filename=pyspark-3.3.2-py2.py3-none-any.whl size=281824025 sha256=a95ee4de6e347a48779d77672a3ae26feccb098189eff5a661d81d113127cfdf\n",
            "  Stored in directory: /root/.cache/pip/wheels/b1/59/a0/a1a0624b5e865fd389919c1a10f53aec9b12195d6747710baf\n",
            "Successfully built pyspark\n",
            "Installing collected packages: py4j, pyspark\n",
            "Successfully installed py4j-0.10.9.5 pyspark-3.3.2\n",
            "The following additional packages will be installed:\n",
            "  openjdk-8-jre-headless\n",
            "Suggested packages:\n",
            "  openjdk-8-demo openjdk-8-source libnss-mdns fonts-dejavu-extra\n",
            "  fonts-ipafont-gothic fonts-ipafont-mincho fonts-wqy-microhei\n",
            "  fonts-wqy-zenhei fonts-indic\n",
            "The following NEW packages will be installed:\n",
            "  openjdk-8-jdk-headless openjdk-8-jre-headless\n",
            "0 upgraded, 2 newly installed, 0 to remove and 19 not upgraded.\n",
            "Need to get 36.5 MB of archives.\n",
            "After this operation, 143 MB of additional disk space will be used.\n",
            "Selecting previously unselected package openjdk-8-jre-headless:amd64.\n",
            "(Reading database ... 128208 files and directories currently installed.)\n",
            "Preparing to unpack .../openjdk-8-jre-headless_8u352-ga-1~20.04_amd64.deb ...\n",
            "Unpacking openjdk-8-jre-headless:amd64 (8u352-ga-1~20.04) ...\n",
            "Selecting previously unselected package openjdk-8-jdk-headless:amd64.\n",
            "Preparing to unpack .../openjdk-8-jdk-headless_8u352-ga-1~20.04_amd64.deb ...\n",
            "Unpacking openjdk-8-jdk-headless:amd64 (8u352-ga-1~20.04) ...\n",
            "Setting up openjdk-8-jre-headless:amd64 (8u352-ga-1~20.04) ...\n",
            "update-alternatives: using /usr/lib/jvm/java-8-openjdk-amd64/jre/bin/orbd to provide /usr/bin/orbd (orbd) in auto mode\n",
            "update-alternatives: using /usr/lib/jvm/java-8-openjdk-amd64/jre/bin/servertool to provide /usr/bin/servertool (servertool) in auto mode\n",
            "update-alternatives: using /usr/lib/jvm/java-8-openjdk-amd64/jre/bin/tnameserv to provide /usr/bin/tnameserv (tnameserv) in auto mode\n",
            "Setting up openjdk-8-jdk-headless:amd64 (8u352-ga-1~20.04) ...\n",
            "update-alternatives: using /usr/lib/jvm/java-8-openjdk-amd64/bin/idlj to provide /usr/bin/idlj (idlj) in auto mode\n",
            "update-alternatives: using /usr/lib/jvm/java-8-openjdk-amd64/bin/wsimport to provide /usr/bin/wsimport (wsimport) in auto mode\n",
            "update-alternatives: using /usr/lib/jvm/java-8-openjdk-amd64/bin/jsadebugd to provide /usr/bin/jsadebugd (jsadebugd) in auto mode\n",
            "update-alternatives: using /usr/lib/jvm/java-8-openjdk-amd64/bin/native2ascii to provide /usr/bin/native2ascii (native2ascii) in auto mode\n",
            "update-alternatives: using /usr/lib/jvm/java-8-openjdk-amd64/bin/javah to provide /usr/bin/javah (javah) in auto mode\n",
            "update-alternatives: using /usr/lib/jvm/java-8-openjdk-amd64/bin/clhsdb to provide /usr/bin/clhsdb (clhsdb) in auto mode\n",
            "update-alternatives: using /usr/lib/jvm/java-8-openjdk-amd64/bin/xjc to provide /usr/bin/xjc (xjc) in auto mode\n",
            "update-alternatives: using /usr/lib/jvm/java-8-openjdk-amd64/bin/hsdb to provide /usr/bin/hsdb (hsdb) in auto mode\n",
            "update-alternatives: using /usr/lib/jvm/java-8-openjdk-amd64/bin/schemagen to provide /usr/bin/schemagen (schemagen) in auto mode\n",
            "update-alternatives: using /usr/lib/jvm/java-8-openjdk-amd64/bin/extcheck to provide /usr/bin/extcheck (extcheck) in auto mode\n",
            "update-alternatives: using /usr/lib/jvm/java-8-openjdk-amd64/bin/jhat to provide /usr/bin/jhat (jhat) in auto mode\n",
            "update-alternatives: using /usr/lib/jvm/java-8-openjdk-amd64/bin/wsgen to provide /usr/bin/wsgen (wsgen) in auto mode\n"
          ]
        }
      ]
    },
    {
      "cell_type": "markdown",
      "metadata": {
        "id": "tad7fmwTbMwW"
      },
      "source": [
        "# Imports\n",
        "\n",
        "\n"
      ]
    },
    {
      "cell_type": "code",
      "metadata": {
        "id": "XKUgYFX9olK5"
      },
      "source": [
        "from pyspark import SparkContext, SparkConf\n",
        "from pyspark.sql import SparkSession, SQLContext\n",
        "from pyspark.sql import types as sparktypes\n",
        "from pyspark.sql.functions import col\n",
        "\n",
        "sc = SparkContext()\n",
        "spark = SparkSession(sc)"
      ],
      "execution_count": null,
      "outputs": []
    },
    {
      "cell_type": "code",
      "metadata": {
        "id": "slRw9-jLsHOd"
      },
      "source": [
        "# download sample access log / hostnames_country.csv for use in code below\n",
        "!rm -f apache.access.log\n",
        "!wget -q https://raw.githubusercontent.com/databricks/reference-apps/master/logs_analyzer/data/apache.access.log\n",
        "\n",
        "!rm -f hostname_country.csv\n",
        "!wget -q https://cpslo-my.sharepoint.com/:x:/g/personal/amigler_calpoly_edu/EcJv6-ZtZR5PpTEcKuDcYmsBq38YIwrNL6d6JtVztjrkhA?rtime=gKcu8Dc82kg\\&download=1 -O hostname_country.csv"
      ],
      "execution_count": null,
      "outputs": []
    },
    {
      "cell_type": "markdown",
      "metadata": {
        "id": "BmAntGt8iNli"
      },
      "source": [
        "# Apache HTTP Log - Resilient Distributed Dataset (RDD)\n",
        "\n",
        "A SparkContext instance can be used to create RDDs from various data/files/resources (text files, CSV, Hadoop data files, etc.)"
      ]
    },
    {
      "cell_type": "code",
      "metadata": {
        "id": "lUbUL01ff2j5",
        "colab": {
          "base_uri": "https://localhost:8080/"
        },
        "outputId": "6504fd11-0cff-42bb-f4cf-c1f58618b108"
      },
      "source": [
        "# find the top 10 clients, map/reduce style using RDD transformations\n",
        "access_log_rdd = (sc.textFile(\"apache.access.log\")\n",
        "                  .map(lambda line: ( line.split(\" \")[0], 1 ))  # field 0 = client address\n",
        "                  .reduceByKey(lambda x, y: x + y)\n",
        "                  .sortBy(lambda t: -t[1]))\n",
        "\n",
        "print (\"Total count of client hostnames:\")\n",
        "print(access_log_rdd.count())\n",
        "\n",
        "print (\"Top 10 client hostnames:\")\n",
        "print(access_log_rdd.take(10))\n"
      ],
      "execution_count": null,
      "outputs": [
        {
          "output_type": "stream",
          "name": "stdout",
          "text": [
            "Total count of client hostnames:\n",
            "169\n",
            "Top 10 client hostnames:\n",
            "[('64.242.88.10', 452), ('10.0.0.153', 188), ('cr020r01-3.sac.overture.com', 44), ('h24-71-236-129.ca.shawcable.net', 36), ('h24-70-69-74.ca.shawcable.net', 32), ('market-mail.panduit.com', 29), ('ts04-ip92.hevanet.com', 28), ('ip68-228-43-49.tc.ph.cox.net', 22), ('proxy0.haifa.ac.il', 19), ('207.195.59.160', 15)]\n"
          ]
        }
      ]
    },
    {
      "cell_type": "markdown",
      "metadata": {
        "id": "7ca1vYvspy6_"
      },
      "source": [
        "# Apache HTTP Log - DataFrame\n",
        "\n",
        "A DataFrame is equivalent to a relational table in Spark SQL, and can be created from on a variety of input formats (CSV, JSON, relational database, etc.) using the SparkSession."
      ]
    },
    {
      "cell_type": "code",
      "metadata": {
        "id": "WuD2cLn6p_Ob",
        "colab": {
          "base_uri": "https://localhost:8080/"
        },
        "outputId": "2cc9dd16-4709-4586-99ce-e497779431ab"
      },
      "source": [
        "access_log_df = spark.read.options(delimiter=\" \").csv(\"apache.access.log\")\n",
        "\n",
        "named_df = access_log_df.select(col('_c0').alias('host'),\n",
        "                                col('_c3').alias('timestamp'),\n",
        "                                col('_c5').alias('path'),\n",
        "                                col('_c6').cast('integer').alias('status'),\n",
        "                                col('_c7').cast('integer').alias('content_size'))\n",
        "\n",
        "\n",
        "\n",
        "named_df.show(truncate=False)\n",
        "named_df.printSchema()"
      ],
      "execution_count": null,
      "outputs": [
        {
          "output_type": "stream",
          "name": "stdout",
          "text": [
            "+------------+---------------------+-------------------------------------------------------------------------------------------------+------+------------+\n",
            "|host        |timestamp            |path                                                                                             |status|content_size|\n",
            "+------------+---------------------+-------------------------------------------------------------------------------------------------+------+------------+\n",
            "|64.242.88.10|[07/Mar/2004:16:05:49|GET /twiki/bin/edit/Main/Double_bounce_sender?topicparent=Main.ConfigurationVariables HTTP/1.1   |401   |12846       |\n",
            "|64.242.88.10|[07/Mar/2004:16:06:51|GET /twiki/bin/rdiff/TWiki/NewUserTemplate?rev1=1.3&rev2=1.2 HTTP/1.1                            |200   |4523        |\n",
            "|64.242.88.10|[07/Mar/2004:16:10:02|GET /mailman/listinfo/hsdivision HTTP/1.1                                                        |200   |6291        |\n",
            "|64.242.88.10|[07/Mar/2004:16:11:58|GET /twiki/bin/view/TWiki/WikiSyntax HTTP/1.1                                                    |200   |7352        |\n",
            "|64.242.88.10|[07/Mar/2004:16:20:55|GET /twiki/bin/view/Main/DCCAndPostFix HTTP/1.1                                                  |200   |5253        |\n",
            "|64.242.88.10|[07/Mar/2004:16:23:12|GET /twiki/bin/oops/TWiki/AppendixFileSystem?template=oopsmore&param1=1.12&param2=1.12 HTTP/1.1  |200   |11382       |\n",
            "|64.242.88.10|[07/Mar/2004:16:24:16|GET /twiki/bin/view/Main/PeterThoeny HTTP/1.1                                                    |200   |4924        |\n",
            "|64.242.88.10|[07/Mar/2004:16:29:16|GET /twiki/bin/edit/Main/Header_checks?topicparent=Main.ConfigurationVariables HTTP/1.1          |401   |12851       |\n",
            "|64.242.88.10|[07/Mar/2004:16:30:29|GET /twiki/bin/attach/Main/OfficeLocations HTTP/1.1                                              |401   |12851       |\n",
            "|64.242.88.10|[07/Mar/2004:16:31:48|GET /twiki/bin/view/TWiki/WebTopicEditTemplate HTTP/1.1                                          |200   |3732        |\n",
            "|64.242.88.10|[07/Mar/2004:16:32:50|GET /twiki/bin/view/Main/WebChanges HTTP/1.1                                                     |200   |40520       |\n",
            "|64.242.88.10|[07/Mar/2004:16:33:53|GET /twiki/bin/edit/Main/Smtpd_etrn_restrictions?topicparent=Main.ConfigurationVariables HTTP/1.1|401   |12851       |\n",
            "|64.242.88.10|[07/Mar/2004:16:35:19|GET /mailman/listinfo/business HTTP/1.1                                                          |200   |6379        |\n",
            "|64.242.88.10|[07/Mar/2004:16:36:22|GET /twiki/bin/rdiff/Main/WebIndex?rev1=1.2&rev2=1.1 HTTP/1.1                                    |200   |46373       |\n",
            "|64.242.88.10|[07/Mar/2004:16:37:27|GET /twiki/bin/view/TWiki/DontNotify HTTP/1.1                                                    |200   |4140        |\n",
            "|64.242.88.10|[07/Mar/2004:16:39:24|GET /twiki/bin/view/Main/TokyoOffice HTTP/1.1                                                    |200   |3853        |\n",
            "|64.242.88.10|[07/Mar/2004:16:43:54|GET /twiki/bin/view/Main/MikeMannix HTTP/1.1                                                     |200   |3686        |\n",
            "|64.242.88.10|[07/Mar/2004:16:45:56|GET /twiki/bin/attach/Main/PostfixCommands HTTP/1.1                                              |401   |12846       |\n",
            "|64.242.88.10|[07/Mar/2004:16:47:12|GET /robots.txt HTTP/1.1                                                                         |200   |68          |\n",
            "|64.242.88.10|[07/Mar/2004:16:47:46|GET /twiki/bin/rdiff/Know/ReadmeFirst?rev1=1.5&rev2=1.4 HTTP/1.1                                 |200   |5724        |\n",
            "+------------+---------------------+-------------------------------------------------------------------------------------------------+------+------------+\n",
            "only showing top 20 rows\n",
            "\n",
            "root\n",
            " |-- host: string (nullable = true)\n",
            " |-- timestamp: string (nullable = true)\n",
            " |-- path: string (nullable = true)\n",
            " |-- status: integer (nullable = true)\n",
            " |-- content_size: integer (nullable = true)\n",
            "\n"
          ]
        }
      ]
    },
    {
      "cell_type": "markdown",
      "metadata": {
        "id": "CZ2zn6ezgTmF"
      },
      "source": [
        "# Part 1: Reporting Tasks from Prior Lab\n",
        "\n",
        "1.   Given an Apache HTTP access log, along with a CSV file that includes country information for hostnames (sample file: [hostname_country.csv](https://cpslo-my.sharepoint.com/:x:/g/personal/amigler_calpoly_edu/EcJv6-ZtZR5PpTEcKuDcYmsBq38YIwrNL6d6JtVztjrkhA?e=xTmRdh)), produce a report that shows the total request count for each country, sorted by request count (highest to lowest)\n",
        "2.   Using the same two input files (access.log and [hostname_country.csv](https://cpslo-my.sharepoint.com/:x:/g/personal/amigler_calpoly_edu/EcJv6-ZtZR5PpTEcKuDcYmsBq38YIwrNL6d6JtVztjrkhA?e=xTmRdh)), produce a report that lists, for each country, the count of each URL visited. Sort by country (alphabetically, A-Z) then count (from highest to lowest), For example:\n",
        "\n",
        "```\n",
        "  Argentina  /home   115\n",
        "  Argentina /another/page.html  105\n",
        "  ...\n",
        "  United States  /robots.txt   185\n",
        "  United States /another/page.html  120\n",
        "  Uruguay  /home  310\n",
        "  Uruguay  /another/page.html  120\n",
        "```\n",
        "\n",
        "\n",
        "\n",
        "\n",
        "\n"
      ]
    },
    {
      "cell_type": "markdown",
      "metadata": {
        "id": "TlPvNuJGgkQl"
      },
      "source": [
        "# (A) RDD Implementations\n",
        "\n",
        "Perform reporting tasks 1 and 2 using RDD transformations\n",
        "\n",
        "[RDD APIs PySpark v3.3.0](https://spark.apache.org/docs/3.3.0/api/python/reference/pyspark.html#rdd-apis)"
      ]
    },
    {
      "cell_type": "code",
      "metadata": {
        "id": "DzNTpq69g1pU",
        "colab": {
          "base_uri": "https://localhost:8080/"
        },
        "outputId": "a836e22d-de65-4c2b-8d94-1eeca70451bd"
      },
      "source": [
        "# RDD implementation\n",
        "# (1) Given an Apache HTTP access log, along with a CSV file that includes country information for\n",
        "# hostnames (sample file: [hostname_country.csv](https://cpslo-my.sharepoint.com/:x:/g/personal/amigler_calpoly_edu/EcJv6-ZtZR5PpTEcKuDcYmsBq38YIwrNL6d6JtVztjrkhA?e=xTmRdh)),\n",
        "# produce a report that shows the total request count for each country, sorted by request count (highest to lowest)\n",
        "host_names_rdd = (sc.textFile(\"hostname_country.csv\")\n",
        "                  .map(lambda line: ( line.split(\",\")[0], line.split(\",\")[1] )))\n",
        "access_log_rdd = (sc.textFile(\"apache.access.log\")\n",
        "                  .map(lambda line: ( line.split(\" \")[0], 1 ))  # field 0 = client address\n",
        "                  .join(host_names_rdd)\n",
        "                  .map(lambda x: (x[1][1], x[1][0]))\n",
        "                  .reduceByKey(lambda x, y: x + y)\n",
        "                  .sortBy(lambda t: -t[1]))\n",
        "\n",
        "print(access_log_rdd.take(10))"
      ],
      "execution_count": null,
      "outputs": [
        {
          "output_type": "stream",
          "name": "stdout",
          "text": [
            "[('Unknown Location', 812), ('Intranet', 198), ('Canada', 127), ('United States', 87), ('Robot', 80), ('Israel', 19), ('Australia', 17), ('France', 16), ('Wherever You Want to Ship', 13), ('Germany', 13)]\n"
          ]
        }
      ]
    },
    {
      "cell_type": "code",
      "metadata": {
        "id": "Az250Dgghvd5",
        "colab": {
          "base_uri": "https://localhost:8080/"
        },
        "outputId": "922c0b69-df4c-4ca4-856a-365fdcb655ce"
      },
      "source": [
        "# RDD implementation\n",
        "# (2) Using the same two input files (access.log and hostname_country.csv), produce a report that lists,\n",
        "# for each country, the count of each URL visited. Sort by country (alphabetically, A-Z) then count (from highest to lowest)\n",
        "host_names_rdd = (sc.textFile(\"hostname_country.csv\")\n",
        "                  .map(lambda line: ( line.split(\",\")[0], line.split(\",\")[1] )))\n",
        "access_log_rdd = (sc.textFile(\"apache.access.log\")\n",
        "                  .map(lambda line: ( line.split(\" \")[0], (line.split(\" \")[6], 1)))\n",
        "                  .join(host_names_rdd)\n",
        "                  .map(lambda x: ((x[1][1], x[1][0][0]), x[1][0][1]))\n",
        "                  .reduceByKey(lambda x, y: x + y)\n",
        "                  .sortBy(lambda x: (x[0][0], -x[1])))\n",
        "\n",
        "print(access_log_rdd.take(10))"
      ],
      "execution_count": null,
      "outputs": [
        {
          "output_type": "stream",
          "name": "stdout",
          "text": [
            "[(('Australia', '/twiki/bin/view/Main/SpamAssassinDeleting'), 2), (('Australia', '/mailman/listinfo'), 2), (('Australia', '/twiki/bin/view/Main/SpamAssassinAndPostFix'), 2), (('Australia', '/twiki/bin/view/Main/SpamAssassinTaggingOnly'), 1), (('Australia', '/icons/mailman.jpg'), 1), (('Australia', '/mailman/admin/webct'), 1), (('Australia', '/mailman/admin'), 1), (('Australia', '/icons/gnu-head-tiny.jpg'), 1), (('Australia', '/mailman'), 1), (('Australia', '/twiki/pub/TWiki/TWikiLogos/twikiRobot46x50.gif'), 1)]\n"
          ]
        }
      ]
    },
    {
      "cell_type": "markdown",
      "metadata": {
        "id": "qxkjTvxIhBO-"
      },
      "source": [
        "# (B) DataFrame Implementations\n",
        "\n",
        "Perform reporting tasks 1 and 2 using Spark's DataFrame API. Note that you should *not* use the Spark SQL abstraction."
      ]
    },
    {
      "cell_type": "code",
      "metadata": {
        "id": "xhGYTdWLhJCH",
        "colab": {
          "base_uri": "https://localhost:8080/"
        },
        "outputId": "f8a1cc17-a2eb-4bb8-e43d-864ff2ec94ad"
      },
      "source": [
        "from pyspark.sql.functions import to_timestamp\n",
        "\n",
        "access_log_df = spark.read.options(delimiter=\" \").csv(\"apache.access.log\", quote=\"\")\n",
        "log_named_df = access_log_df.select(col('_c0').alias('host'),\n",
        "                                to_timestamp(col('_c3').substr(2,50), \"dd/MMM/yyyy:HH:mm:SS\").alias('timestamp'),\n",
        "                                col('_c6').alias('path'),\n",
        "                                col('_c8').cast('integer').alias('status'),\n",
        "                                col('_c9').cast('integer').alias('content_size'))\n",
        "\n",
        "host_names_rdd = spark.read.options(delimiter=\",\").csv(\"hostname_country.csv\", quote=\"\")\n",
        "host_named_df = host_names_rdd.select(col('_c0').alias('host'),\n",
        "                                col('_c1').alias('country'))\n",
        "\n",
        "log_named_df.show(truncate=False)\n",
        "host_named_df.show(truncate=False)"
      ],
      "execution_count": null,
      "outputs": [
        {
          "output_type": "stream",
          "name": "stdout",
          "text": [
            "+------------+----------------------+------------------------------------------------------------------------------------+------+------------+\n",
            "|host        |timestamp             |path                                                                                |status|content_size|\n",
            "+------------+----------------------+------------------------------------------------------------------------------------+------+------------+\n",
            "|64.242.88.10|2004-03-07 16:05:00.49|/twiki/bin/edit/Main/Double_bounce_sender?topicparent=Main.ConfigurationVariables   |401   |12846       |\n",
            "|64.242.88.10|2004-03-07 16:06:00.51|/twiki/bin/rdiff/TWiki/NewUserTemplate?rev1=1.3&rev2=1.2                            |200   |4523        |\n",
            "|64.242.88.10|2004-03-07 16:10:00.02|/mailman/listinfo/hsdivision                                                        |200   |6291        |\n",
            "|64.242.88.10|2004-03-07 16:11:00.58|/twiki/bin/view/TWiki/WikiSyntax                                                    |200   |7352        |\n",
            "|64.242.88.10|2004-03-07 16:20:00.55|/twiki/bin/view/Main/DCCAndPostFix                                                  |200   |5253        |\n",
            "|64.242.88.10|2004-03-07 16:23:00.12|/twiki/bin/oops/TWiki/AppendixFileSystem?template=oopsmore&param1=1.12&param2=1.12  |200   |11382       |\n",
            "|64.242.88.10|2004-03-07 16:24:00.16|/twiki/bin/view/Main/PeterThoeny                                                    |200   |4924        |\n",
            "|64.242.88.10|2004-03-07 16:29:00.16|/twiki/bin/edit/Main/Header_checks?topicparent=Main.ConfigurationVariables          |401   |12851       |\n",
            "|64.242.88.10|2004-03-07 16:30:00.29|/twiki/bin/attach/Main/OfficeLocations                                              |401   |12851       |\n",
            "|64.242.88.10|2004-03-07 16:31:00.48|/twiki/bin/view/TWiki/WebTopicEditTemplate                                          |200   |3732        |\n",
            "|64.242.88.10|2004-03-07 16:32:00.5 |/twiki/bin/view/Main/WebChanges                                                     |200   |40520       |\n",
            "|64.242.88.10|2004-03-07 16:33:00.53|/twiki/bin/edit/Main/Smtpd_etrn_restrictions?topicparent=Main.ConfigurationVariables|401   |12851       |\n",
            "|64.242.88.10|2004-03-07 16:35:00.19|/mailman/listinfo/business                                                          |200   |6379        |\n",
            "|64.242.88.10|2004-03-07 16:36:00.22|/twiki/bin/rdiff/Main/WebIndex?rev1=1.2&rev2=1.1                                    |200   |46373       |\n",
            "|64.242.88.10|2004-03-07 16:37:00.27|/twiki/bin/view/TWiki/DontNotify                                                    |200   |4140        |\n",
            "|64.242.88.10|2004-03-07 16:39:00.24|/twiki/bin/view/Main/TokyoOffice                                                    |200   |3853        |\n",
            "|64.242.88.10|2004-03-07 16:43:00.54|/twiki/bin/view/Main/MikeMannix                                                     |200   |3686        |\n",
            "|64.242.88.10|2004-03-07 16:45:00.56|/twiki/bin/attach/Main/PostfixCommands                                              |401   |12846       |\n",
            "|64.242.88.10|2004-03-07 16:47:00.12|/robots.txt                                                                         |200   |68          |\n",
            "|64.242.88.10|2004-03-07 16:47:00.46|/twiki/bin/rdiff/Know/ReadmeFirst?rev1=1.5&rev2=1.4                                 |200   |5724        |\n",
            "+------------+----------------------+------------------------------------------------------------------------------------+------+------------+\n",
            "only showing top 20 rows\n",
            "\n",
            "+------------------------------------+----------------+\n",
            "|host                                |country         |\n",
            "+------------------------------------+----------------+\n",
            "|0x503e4fce.virnxx2.adsl-dhcp.tele.dk|Denmark         |\n",
            "|10.0.0.153                          |Intranet        |\n",
            "|12.22.207.235                       |United States   |\n",
            "|128.227.88.79                       |United States   |\n",
            "|1-320.cnc.bc.ca                     |Canada          |\n",
            "|142.27.64.35                        |United States   |\n",
            "|145.253.208.9                       |United States   |\n",
            "|1513.cps.virtua.com.br              |Unknown Location|\n",
            "|1-729.cnc.bc.ca                     |Canada          |\n",
            "|194.151.73.43                       |Unknown Location|\n",
            "|195.11.231.210                      |Unknown Location|\n",
            "|195.230.181.122                     |Unknown Location|\n",
            "|195.246.13.119                      |Unknown Location|\n",
            "|200.160.249.68.bmf.com.br           |Unknown Location|\n",
            "|200.222.33.33                       |Unknown Location|\n",
            "|200-55-104-193.dsl.prima.net.ar     |Unknown Location|\n",
            "|203.147.138.233                     |United States   |\n",
            "|206-15-133-153.dialup.ziplink.net   |United States   |\n",
            "|206-15-133-154.dialup.ziplink.net   |United States   |\n",
            "|206-15-133-181.dialup.ziplink.net   |United States   |\n",
            "+------------------------------------+----------------+\n",
            "only showing top 20 rows\n",
            "\n"
          ]
        }
      ]
    },
    {
      "cell_type": "code",
      "source": [
        "# DataFrame implementation\n",
        "# (1) Given an Apache HTTP access log, along with a CSV file that includes country information for\n",
        "# hostnames (sample file: [hostname_country.csv](https://cpslo-my.sharepoint.com/:x:/g/personal/amigler_calpoly_edu/EcJv6-ZtZR5PpTEcKuDcYmsBq38YIwrNL6d6JtVztjrkhA?e=xTmRdh)),\n",
        "# produce a report that shows the total request count for each country, sorted by request count (highest to lowest)\n",
        "cc_df = (log_named_df\n",
        "         .groupBy('host')\n",
        "         .count()\n",
        "         .join(host_named_df, log_named_df.host == host_named_df.host)\n",
        "         .select('country', 'count')\n",
        "         .orderBy('count', ascending = False))\n",
        "\n",
        "cc_df.show(truncate=False)"
      ],
      "metadata": {
        "colab": {
          "base_uri": "https://localhost:8080/"
        },
        "id": "J5OQN2JxbPSB",
        "outputId": "4f3acd4d-6dff-40b2-fb29-eba4cfd8dfcf"
      },
      "execution_count": null,
      "outputs": [
        {
          "output_type": "stream",
          "name": "stdout",
          "text": [
            "+-------------------------+-----+\n",
            "|country                  |count|\n",
            "+-------------------------+-----+\n",
            "|Unknown Location         |452  |\n",
            "|Intranet                 |188  |\n",
            "|Unknown Location         |44   |\n",
            "|Canada                   |36   |\n",
            "|Canada                   |32   |\n",
            "|Unknown Location         |29   |\n",
            "|Unknown Location         |28   |\n",
            "|Unknown Location         |22   |\n",
            "|Israel                   |19   |\n",
            "|Unknown Location         |15   |\n",
            "|Unknown Location         |14   |\n",
            "|France                   |14   |\n",
            "|United States            |14   |\n",
            "|United States            |13   |\n",
            "|Unknown Location         |13   |\n",
            "|Unknown Location         |13   |\n",
            "|Unknown Location         |13   |\n",
            "|Wherever You Want to Ship|13   |\n",
            "|United States            |12   |\n",
            "|Unknown Location         |12   |\n",
            "+-------------------------+-----+\n",
            "only showing top 20 rows\n",
            "\n"
          ]
        }
      ]
    },
    {
      "cell_type": "code",
      "metadata": {
        "id": "Apq4hUSVh94J",
        "colab": {
          "base_uri": "https://localhost:8080/"
        },
        "outputId": "c3007b27-7df4-4dc0-9ae4-77d48a8597fd"
      },
      "source": [
        "# DataFrame implementation\n",
        "# (2) Using the same two input files (access.log and hostname_country.csv), produce a report that lists,\n",
        "# for each country, the count of each URL visited. Sort by country (alphabetically, A-Z) then count (from highest to lowest)\n",
        "cc_df = (log_named_df\n",
        "         .groupBy('host', 'path')\n",
        "         .count()\n",
        "         .join(host_named_df, log_named_df.host == host_named_df.host)\n",
        "         .select('country', 'path', 'count')\n",
        "         .orderBy(['country', 'count'], ascending = [True, False]))\n",
        "\n",
        "cc_df.show(truncate=False)"
      ],
      "execution_count": null,
      "outputs": [
        {
          "output_type": "stream",
          "name": "stdout",
          "text": [
            "+---------+-----------------------------------------------+-----+\n",
            "|country  |path                                           |count|\n",
            "+---------+-----------------------------------------------+-----+\n",
            "|Australia|/twiki/bin/view/Main/SpamAssassinAndPostFix    |2    |\n",
            "|Australia|/mailman/listinfo                              |2    |\n",
            "|Australia|/twiki/bin/view/Main/SpamAssassinDeleting      |2    |\n",
            "|Australia|/icons/PythonPowered.png                       |1    |\n",
            "|Australia|/icons/mailman.jpg                             |1    |\n",
            "|Australia|/twiki/bin/view/Main/SpamAssassinTaggingOnly   |1    |\n",
            "|Australia|/mailman/listinfo/administration               |1    |\n",
            "|Australia|/mailman                                       |1    |\n",
            "|Australia|/icons/gnu-head-tiny.jpg                       |1    |\n",
            "|Australia|/mailman/admin/webct                           |1    |\n",
            "|Australia|/twiki/bin/view/Main/WebHome                   |1    |\n",
            "|Australia|/mailman/admin                                 |1    |\n",
            "|Australia|/mailman/listinfo/cnc_notice                   |1    |\n",
            "|Australia|/twiki/pub/TWiki/TWikiLogos/twikiRobot46x50.gif|1    |\n",
            "|Canada   |/mailman/admin/ppwc                            |9    |\n",
            "|Canada   |/mailman/listinfo/ppwc                         |7    |\n",
            "|Canada   |/mailman/listinfo                              |4    |\n",
            "|Canada   |/mailman/admindb/ppwc                          |3    |\n",
            "|Canada   |/mailman/options/cnc_notice                    |2    |\n",
            "|Canada   |/images/image004.jpg                           |2    |\n",
            "+---------+-----------------------------------------------+-----+\n",
            "only showing top 20 rows\n",
            "\n"
          ]
        }
      ]
    },
    {
      "cell_type": "markdown",
      "source": [
        "# Part 2: Reporting Tasks Based on Student / Course Data\n",
        "\n",
        "\n",
        "\n",
        "1.   Find the names of the students that have taken at least one of the courses with the greatest difficulty.\n",
        "2.   Find the average course difficulty of the classes that are taken by each student. Print average course difficulty of 0 if a student hasn't taken any classes (hint, use left outer or right outer join).\n",
        "\n"
      ],
      "metadata": {
        "id": "XZMcgEEh0NUE"
      }
    },
    {
      "cell_type": "code",
      "source": [
        "# Data for exercises below\n",
        "\n",
        "# course information: course code, difficulty (1-3)\n",
        "courses = [(\"CSC365\", 1),\n",
        "           (\"CSC369\", 1),\n",
        "           (\"CSC430\", 3),\n",
        "           (\"CSC469\", 2)]\n",
        "courses_df = spark.createDataFrame(courses, [\"Course\", \"Difficulty\"])\n",
        "courses_rdd = courses_df.rdd.map(tuple)\n",
        "\n",
        "# student information: unique student ID, name, email\n",
        "students = [(1,\"Nikita\",\"Trevett\",\"ntrevett0@abc.net.au\"),\n",
        "            (2,\"Jacquenette\",\"Tolson\",\"jtolson1@ucoz.com\"),\n",
        "            (3,\"Helsa\",\"St Ledger\",\"hstledger2@elpais.com\"),\n",
        "            (4,\"Eli\",\"Golland\",\"egolland3@wordpress.com\"),\n",
        "            (5,\"Amitie\",\"Mytton\",\"amytton4@mit.edu\"),\n",
        "            (6,\"Adan\",\"Holtum\",\"aholtum1i@amazon.co.uk\")]\n",
        "students_df = spark.createDataFrame(students, [\"ID\", \"FirstName\", \"LastName\", \"Email\"])\n",
        "students_rdd = students_df.rdd.map(tuple)\n",
        "\n",
        "\n",
        "# student grades: student ID, course code, grade earned\n",
        "student_grades = [(1, \"CSC365\", \"A\"),\n",
        "                  (1, \"CSC369\", \"A-\"),\n",
        "                  (1, \"CSC469\", \"B\"),\n",
        "                  (2, \"CSC369\", \"B\"),\n",
        "                  (3, \"CSC365\", \"A\"),\n",
        "                  (3, \"CSC430\", \"B\")]\n",
        "student_grades_df = spark.createDataFrame(student_grades, [\"StudentId\", \"Course\", \"Grade\"])\n",
        "student_grades_rdd = student_grades_df.rdd.map(tuple)\n",
        "\n",
        "courses_df.show(truncate=False)\n",
        "students_df.show(truncate=False)\n",
        "student_grades_df.show(truncate=False)"
      ],
      "metadata": {
        "id": "KbPMTYFK0VkZ",
        "colab": {
          "base_uri": "https://localhost:8080/"
        },
        "outputId": "2d741b23-2ce5-4e47-f652-e12178bf0f4e"
      },
      "execution_count": null,
      "outputs": [
        {
          "output_type": "stream",
          "name": "stdout",
          "text": [
            "+------+----------+\n",
            "|Course|Difficulty|\n",
            "+------+----------+\n",
            "|CSC365|1         |\n",
            "|CSC369|1         |\n",
            "|CSC430|3         |\n",
            "|CSC469|2         |\n",
            "+------+----------+\n",
            "\n",
            "+---+-----------+---------+-----------------------+\n",
            "|ID |FirstName  |LastName |Email                  |\n",
            "+---+-----------+---------+-----------------------+\n",
            "|1  |Nikita     |Trevett  |ntrevett0@abc.net.au   |\n",
            "|2  |Jacquenette|Tolson   |jtolson1@ucoz.com      |\n",
            "|3  |Helsa      |St Ledger|hstledger2@elpais.com  |\n",
            "|4  |Eli        |Golland  |egolland3@wordpress.com|\n",
            "|5  |Amitie     |Mytton   |amytton4@mit.edu       |\n",
            "|6  |Adan       |Holtum   |aholtum1i@amazon.co.uk |\n",
            "+---+-----------+---------+-----------------------+\n",
            "\n",
            "+---------+------+-----+\n",
            "|StudentId|Course|Grade|\n",
            "+---------+------+-----+\n",
            "|1        |CSC365|A    |\n",
            "|1        |CSC369|A-   |\n",
            "|1        |CSC469|B    |\n",
            "|2        |CSC369|B    |\n",
            "|3        |CSC365|A    |\n",
            "|3        |CSC430|B    |\n",
            "+---------+------+-----+\n",
            "\n"
          ]
        }
      ]
    },
    {
      "cell_type": "code",
      "source": [
        "s = students_df.withColumnRenamed(\"ID\", \"StudentId\")\n",
        "s.join(student_grades_df, \"StudentId\").show()"
      ],
      "metadata": {
        "id": "9ohbaCyikcRK",
        "colab": {
          "base_uri": "https://localhost:8080/"
        },
        "outputId": "fd692e60-a72f-4cbf-b62a-12698a91c285"
      },
      "execution_count": null,
      "outputs": [
        {
          "output_type": "stream",
          "name": "stdout",
          "text": [
            "+---------+-----------+---------+--------------------+------+-----+\n",
            "|StudentId|  FirstName| LastName|               Email|Course|Grade|\n",
            "+---------+-----------+---------+--------------------+------+-----+\n",
            "|        1|     Nikita|  Trevett|ntrevett0@abc.net.au|CSC365|    A|\n",
            "|        1|     Nikita|  Trevett|ntrevett0@abc.net.au|CSC369|   A-|\n",
            "|        1|     Nikita|  Trevett|ntrevett0@abc.net.au|CSC469|    B|\n",
            "|        2|Jacquenette|   Tolson|   jtolson1@ucoz.com|CSC369|    B|\n",
            "|        3|      Helsa|St Ledger|hstledger2@elpais...|CSC365|    A|\n",
            "|        3|      Helsa|St Ledger|hstledger2@elpais...|CSC430|    B|\n",
            "+---------+-----------+---------+--------------------+------+-----+\n",
            "\n"
          ]
        }
      ]
    },
    {
      "cell_type": "markdown",
      "source": [
        "# (A) RDD Implementations"
      ],
      "metadata": {
        "id": "eFShsmi61Trq"
      }
    },
    {
      "cell_type": "code",
      "source": [
        "# RDD implementation\n",
        "# (1) Find the names of the students that have taken at least one of the courses with the greatest difficulty.\n",
        "rdd1 = (students_rdd\n",
        "        .map(lambda x: (x[0], (x[1], x[2])))\n",
        "        .join(student_grades_rdd)\n",
        "        .map(lambda x: (x[1][1], x[1][0]))\n",
        "        .join(courses_rdd)\n",
        "        .map(lambda x: (x[1][1], x[1][0])))\n",
        "\n",
        "print(rdd1.max())"
      ],
      "metadata": {
        "id": "W7fDJQCj1V_n",
        "colab": {
          "base_uri": "https://localhost:8080/"
        },
        "outputId": "a313204a-85a5-4f1c-d98b-39cfe2e24191"
      },
      "execution_count": null,
      "outputs": [
        {
          "output_type": "stream",
          "name": "stdout",
          "text": [
            "(3, ('Helsa', 'St Ledger'))\n"
          ]
        }
      ]
    },
    {
      "cell_type": "code",
      "source": [
        "# RDD implementation\n",
        "# (2) Find the average course difficulty of the classes that are taken by each student. Print average course difficulty of 0\n",
        "#     if a student hasn't taken any classes (hint, use left outer or right outer join).\n",
        "rdd2 = (students_rdd\n",
        "        .map(lambda x: (x[0], (x[1], x[2])))\n",
        "        .leftOuterJoin(student_grades_rdd)\n",
        "        .map(lambda x: (x[1][1], x[1][0]))\n",
        "        .leftOuterJoin(courses_rdd)\n",
        "        .map(lambda x: (x[1][0], x[1][1] if x[1][1] is not None else 0))\n",
        "        .groupByKey()\n",
        "        .mapValues(lambda x: sum(list(x)) / len(list(x))))\n",
        "\n",
        "print(rdd2.collect())"
      ],
      "metadata": {
        "id": "8IVLoT9Z1ZtC",
        "colab": {
          "base_uri": "https://localhost:8080/"
        },
        "outputId": "7cdbc693-ac95-45f8-a95e-91fae361cc1c"
      },
      "execution_count": null,
      "outputs": [
        {
          "output_type": "stream",
          "name": "stdout",
          "text": [
            "[(('Nikita', 'Trevett'), 1.3333333333333333), (('Eli', 'Golland'), 0.0), (('Jacquenette', 'Tolson'), 1.0), (('Amitie', 'Mytton'), 0.0), (('Helsa', 'St Ledger'), 2.0), (('Adan', 'Holtum'), 0.0)]\n"
          ]
        }
      ]
    },
    {
      "cell_type": "markdown",
      "source": [
        "# (B) DataFrame Implementations\n",
        "\n",
        "Spark SQL is not permitted for these exercises."
      ],
      "metadata": {
        "id": "X99fbzWl1cTQ"
      }
    },
    {
      "cell_type": "code",
      "source": [
        "# DataFrame implementation\n",
        "# (1) Find the names of the students that have taken at least one of the courses with the greatest difficulty.\n",
        "from pyspark.sql.functions import max\n",
        "max_df = (s.join(student_grades_df, \"StudentId\")\n",
        "       .join(courses_df, \"Course\")\n",
        "       .agg(max(\"Difficulty\")))\n",
        "\n",
        "s_df = (s.join(student_grades_df, \"StudentId\")\n",
        "       .join(courses_df, \"Course\")\n",
        "       .groupBy(\"FirstName\", \"LastName\")\n",
        "       .agg(max(\"Difficulty\")))\n",
        "\n",
        "df1 = (max_df.join(s_df, \"max(Difficulty)\")\n",
        "       .select(\"FirstName\", \"LastName\"))\n",
        "\n",
        "df1.show()"
      ],
      "metadata": {
        "id": "acfJC0rW1gsC",
        "colab": {
          "base_uri": "https://localhost:8080/"
        },
        "outputId": "00b9a96b-78db-40b1-d72c-fb27dc713aee"
      },
      "execution_count": null,
      "outputs": [
        {
          "output_type": "stream",
          "name": "stdout",
          "text": [
            "+---------+---------+\n",
            "|FirstName| LastName|\n",
            "+---------+---------+\n",
            "|    Helsa|St Ledger|\n",
            "+---------+---------+\n",
            "\n"
          ]
        }
      ]
    },
    {
      "cell_type": "code",
      "source": [
        "# DataFrame implementation\n",
        "# (2) Find the average course difficulty of the classes that are taken by each student. Print average course difficulty of 0\n",
        "#     if a student hasn't taken any classes (hint, use left outer or right outer join).\n",
        "df2 = (students_df\n",
        "       .join(student_grades_df, students_df[\"ID\"] == student_grades_df[\"StudentId\"], \"left\")\n",
        "       .join(courses_df, \"Course\", \"left\")\n",
        "       .fillna(0)\n",
        "       .select(\"FirstName\", \"LastName\", \"Difficulty\")\n",
        "       .groupBy(\"FirstName\", \"LastName\")\n",
        "       .agg({\"Difficulty\": \"mean\"}))\n",
        "\n",
        "df2.show()"
      ],
      "metadata": {
        "id": "1EfCcB581hpF",
        "colab": {
          "base_uri": "https://localhost:8080/"
        },
        "outputId": "ae6474e3-e246-4cf1-c9aa-9a78c06c1740"
      },
      "execution_count": null,
      "outputs": [
        {
          "output_type": "stream",
          "name": "stdout",
          "text": [
            "+-----------+---------+------------------+\n",
            "|  FirstName| LastName|   avg(Difficulty)|\n",
            "+-----------+---------+------------------+\n",
            "|     Amitie|   Mytton|               0.0|\n",
            "|      Helsa|St Ledger|               2.0|\n",
            "|       Adan|   Holtum|               0.0|\n",
            "|     Nikita|  Trevett|1.3333333333333333|\n",
            "|Jacquenette|   Tolson|               1.0|\n",
            "|        Eli|  Golland|               0.0|\n",
            "+-----------+---------+------------------+\n",
            "\n"
          ]
        }
      ]
    }
  ]
}